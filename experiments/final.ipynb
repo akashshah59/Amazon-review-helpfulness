{
 "cells": [
  {
   "cell_type": "code",
   "execution_count": 1,
   "metadata": {},
   "outputs": [],
   "source": [
    "import gzip\n",
    "import pandas as pd\n",
    "from collections import defaultdict\n",
    "\n",
    "def readGz(f):\n",
    "    for l in gzip.open(f):\n",
    "        yield eval(l)\n",
    "\n",
    "def parse(path):\n",
    "    g = gzip.open(path, 'rb')\n",
    "    for l in g:\n",
    "        yield eval(l)\n",
    "\n",
    "def getDF(path):\n",
    "    i = 0\n",
    "    df = {}\n",
    "    for d in parse(path):\n",
    "        df[i] = d\n",
    "        i += 1\n",
    "    return pd.DataFrame.from_dict(df, orient='index')\n",
    "\n",
    "train_df = getDF('train.json.gz')\n",
    "test_df = getDF('test_Helpful.json.gz')"
   ]
  },
  {
   "cell_type": "code",
   "execution_count": 2,
   "metadata": {},
   "outputs": [
    {
     "data": {
      "text/plain": [
       "(200000, 12)"
      ]
     },
     "execution_count": 2,
     "metadata": {},
     "output_type": "execute_result"
    }
   ],
   "source": [
    "train_df.shape"
   ]
  },
  {
   "cell_type": "code",
   "execution_count": 3,
   "metadata": {},
   "outputs": [],
   "source": [
    "import itertools\n",
    "\n",
    "train_df['categories'] = train_df.categories.apply(lambda x: list(itertools.chain(*x))).apply(lambda x: [each.split(',') for each in x]).apply(lambda x: list(set(itertools.chain(*x))))\n",
    "test_df['categories'] = test_df.categories.apply(lambda x: list(itertools.chain(*x))).apply(lambda x: [each.split(',') for each in x]).apply(lambda x: list(set(itertools.chain(*x))))"
   ]
  },
  {
   "cell_type": "code",
   "execution_count": 4,
   "metadata": {},
   "outputs": [],
   "source": [
    "categories_fit = train_df.categories.to_list()\n",
    "test_categories_fit = test_df.categories.to_list()"
   ]
  },
  {
   "cell_type": "code",
   "execution_count": 5,
   "metadata": {},
   "outputs": [],
   "source": [
    "from sklearn import preprocessing\n",
    "lb = preprocessing.MultiLabelBinarizer()\n",
    "\n",
    "lb.fit(categories_fit)\n",
    "train_cats = pd.DataFrame(lb.transform(categories_fit),columns = lb.classes_)\n",
    "test_cats = pd.DataFrame(lb.transform(test_categories_fit),columns = lb.classes_)"
   ]
  },
  {
   "cell_type": "code",
   "execution_count": 6,
   "metadata": {},
   "outputs": [],
   "source": [
    "train_df.drop('categories',axis = 1,inplace = True)\n",
    "test_df.drop('categories',axis = 1, inplace = True)"
   ]
  },
  {
   "cell_type": "code",
   "execution_count": 7,
   "metadata": {},
   "outputs": [],
   "source": [
    "train = pd.concat([train_df,train_cats],axis = 1)\n",
    "test = pd.concat([test_df,test_cats],axis = 1)"
   ]
  },
  {
   "cell_type": "code",
   "execution_count": 8,
   "metadata": {
    "scrolled": true
   },
   "outputs": [
    {
     "data": {
      "text/html": [
       "<div>\n",
       "<style scoped>\n",
       "    .dataframe tbody tr th:only-of-type {\n",
       "        vertical-align: middle;\n",
       "    }\n",
       "\n",
       "    .dataframe tbody tr th {\n",
       "        vertical-align: top;\n",
       "    }\n",
       "\n",
       "    .dataframe thead th {\n",
       "        text-align: right;\n",
       "    }\n",
       "</style>\n",
       "<table border=\"1\" class=\"dataframe\">\n",
       "  <thead>\n",
       "    <tr style=\"text-align: right;\">\n",
       "      <th></th>\n",
       "      <th>categoryID</th>\n",
       "      <th>itemID</th>\n",
       "      <th>reviewerID</th>\n",
       "      <th>rating</th>\n",
       "      <th>reviewText</th>\n",
       "      <th>reviewHash</th>\n",
       "      <th>reviewTime</th>\n",
       "      <th>summary</th>\n",
       "      <th>unixReviewTime</th>\n",
       "      <th>helpful</th>\n",
       "      <th>...</th>\n",
       "      <th>ZiGiny</th>\n",
       "      <th>adidas</th>\n",
       "      <th>adidas Originals</th>\n",
       "      <th>bebe</th>\n",
       "      <th>cobian</th>\n",
       "      <th>crocs</th>\n",
       "      <th>dollhouse</th>\n",
       "      <th>indigo by Clarks</th>\n",
       "      <th>nicole</th>\n",
       "      <th>pediped</th>\n",
       "    </tr>\n",
       "  </thead>\n",
       "  <tbody>\n",
       "    <tr>\n",
       "      <th>0</th>\n",
       "      <td>0</td>\n",
       "      <td>I655355328</td>\n",
       "      <td>U745881038</td>\n",
       "      <td>3.0</td>\n",
       "      <td>These are cute, but they are a little small.  ...</td>\n",
       "      <td>R115160670</td>\n",
       "      <td>05 20, 2014</td>\n",
       "      <td>Cute</td>\n",
       "      <td>1400544000</td>\n",
       "      <td>{'outOf': 0, 'nHelpful': 0}</td>\n",
       "      <td>...</td>\n",
       "      <td>0</td>\n",
       "      <td>0</td>\n",
       "      <td>0</td>\n",
       "      <td>0</td>\n",
       "      <td>0</td>\n",
       "      <td>0</td>\n",
       "      <td>0</td>\n",
       "      <td>0</td>\n",
       "      <td>0</td>\n",
       "      <td>0</td>\n",
       "    </tr>\n",
       "    <tr>\n",
       "      <th>1</th>\n",
       "      <td>0</td>\n",
       "      <td>I241092314</td>\n",
       "      <td>U023577405</td>\n",
       "      <td>4.0</td>\n",
       "      <td>I love the look of this bra, it is what I want...</td>\n",
       "      <td>R800651687</td>\n",
       "      <td>02 7, 2013</td>\n",
       "      <td>Beautiful but size runs small</td>\n",
       "      <td>1360195200</td>\n",
       "      <td>{'outOf': 0, 'nHelpful': 0}</td>\n",
       "      <td>...</td>\n",
       "      <td>0</td>\n",
       "      <td>0</td>\n",
       "      <td>0</td>\n",
       "      <td>0</td>\n",
       "      <td>0</td>\n",
       "      <td>0</td>\n",
       "      <td>0</td>\n",
       "      <td>0</td>\n",
       "      <td>0</td>\n",
       "      <td>0</td>\n",
       "    </tr>\n",
       "  </tbody>\n",
       "</table>\n",
       "<p>2 rows × 1061 columns</p>\n",
       "</div>"
      ],
      "text/plain": [
       "   categoryID      itemID  reviewerID  rating  \\\n",
       "0           0  I655355328  U745881038     3.0   \n",
       "1           0  I241092314  U023577405     4.0   \n",
       "\n",
       "                                          reviewText  reviewHash   reviewTime  \\\n",
       "0  These are cute, but they are a little small.  ...  R115160670  05 20, 2014   \n",
       "1  I love the look of this bra, it is what I want...  R800651687   02 7, 2013   \n",
       "\n",
       "                         summary  unixReviewTime                      helpful  \\\n",
       "0                           Cute      1400544000  {'outOf': 0, 'nHelpful': 0}   \n",
       "1  Beautiful but size runs small      1360195200  {'outOf': 0, 'nHelpful': 0}   \n",
       "\n",
       "   ...  ZiGiny  adidas  adidas Originals  bebe  cobian  crocs  dollhouse  \\\n",
       "0  ...       0       0                 0     0       0      0          0   \n",
       "1  ...       0       0                 0     0       0      0          0   \n",
       "\n",
       "   indigo by Clarks  nicole  pediped  \n",
       "0                 0       0        0  \n",
       "1                 0       0        0  \n",
       "\n",
       "[2 rows x 1061 columns]"
      ]
     },
     "execution_count": 8,
     "metadata": {},
     "output_type": "execute_result"
    }
   ],
   "source": [
    "train.head(2)"
   ]
  },
  {
   "cell_type": "code",
   "execution_count": 9,
   "metadata": {},
   "outputs": [],
   "source": [
    "helpfulNess_train = pd.DataFrame(train_df.helpful.apply(lambda x: [x['outOf'],x['nHelpful']]).to_list(),columns = ['outOf','nHelpful'])\n",
    "\n",
    "helpfulNess_test = pd.DataFrame(test_df.helpful.apply(lambda x: [x['outOf']]).to_list(),columns = ['outOf'])"
   ]
  },
  {
   "cell_type": "code",
   "execution_count": 10,
   "metadata": {},
   "outputs": [],
   "source": [
    "train = pd.concat([train,helpfulNess_train],axis = 1)\n",
    "test = pd.concat([test,helpfulNess_test],axis = 1)"
   ]
  },
  {
   "cell_type": "markdown",
   "metadata": {},
   "source": [
    "### Price analysis. Is it worth to keep this feature in our analysis? There does not seem to be too much variance in the prices"
   ]
  },
  {
   "cell_type": "code",
   "execution_count": 11,
   "metadata": {},
   "outputs": [
    {
     "data": {
      "text/plain": [
       "<matplotlib.axes._subplots.AxesSubplot at 0x7f8ca35bef90>"
      ]
     },
     "execution_count": 11,
     "metadata": {},
     "output_type": "execute_result"
    }
   ],
   "source": [
    "train.price.hist(bins=100)"
   ]
  },
  {
   "cell_type": "code",
   "execution_count": 12,
   "metadata": {},
   "outputs": [],
   "source": [
    "train.drop(['helpful','reviewHash','reviewText','price'],axis = 1,inplace = True)\n",
    "test.drop(['helpful','reviewHash','reviewText','price'],axis = 1,inplace = True)"
   ]
  },
  {
   "cell_type": "code",
   "execution_count": 13,
   "metadata": {},
   "outputs": [],
   "source": [
    "month = train.reviewTime.apply(lambda x: [each.replace(',','') for each in str(x).split(' ')]).apply(lambda x:x[0])\n",
    "day = train.reviewTime.apply(lambda x: [each.replace(',','') for each in str(x).split(' ')]).apply(lambda x:x[1])\n",
    "year = train.reviewTime.apply(lambda x: [each.replace(',','') for each in str(x).split(' ')]).apply(lambda x:x[2])\n",
    "\n",
    "month_test = test.reviewTime.apply(lambda x: [each.replace(',','') for each in str(x).split(' ')]).apply(lambda x:x[0])\n",
    "day_test = test.reviewTime.apply(lambda x: [each.replace(',','') for each in str(x).split(' ')]).apply(lambda x:x[1])\n",
    "year_test = test.reviewTime.apply(lambda x: [each.replace(',','') for each in str(x).split(' ')]).apply(lambda x:x[2])"
   ]
  },
  {
   "cell_type": "code",
   "execution_count": 14,
   "metadata": {},
   "outputs": [],
   "source": [
    "train.drop(['reviewTime'],axis = 1,inplace = True)\n",
    "test.drop(['reviewTime'],axis = 1,inplace = True)\n",
    "train.drop(['unixReviewTime'],axis = 1,inplace = True)\n",
    "test.drop(['unixReviewTime'],axis = 1,inplace = True)\n",
    "\n",
    "train['day'] = day\n",
    "train['month'] = month\n",
    "train['year'] = year\n",
    "\n",
    "test['day'] = day_test\n",
    "test['month'] = month_test\n",
    "test['year'] = year_test"
   ]
  },
  {
   "cell_type": "code",
   "execution_count": 15,
   "metadata": {},
   "outputs": [],
   "source": [
    "train.drop(['summary'],axis = 1,inplace = True)\n",
    "test.drop(['summary'], axis = 1,inplace = True)"
   ]
  },
  {
   "cell_type": "code",
   "execution_count": 16,
   "metadata": {},
   "outputs": [],
   "source": [
    "#train['price'] = train.price.fillna(0)\n",
    "#test['price'] = test.price.fillna(0)"
   ]
  },
  {
   "cell_type": "markdown",
   "metadata": {},
   "source": [
    "### Problem of being sparse. How can we reduce that dimensionality?\n",
    "### How do we select important features from this ?"
   ]
  },
  {
   "cell_type": "code",
   "execution_count": 17,
   "metadata": {
    "scrolled": true
   },
   "outputs": [
    {
     "data": {
      "text/html": [
       "<div>\n",
       "<style scoped>\n",
       "    .dataframe tbody tr th:only-of-type {\n",
       "        vertical-align: middle;\n",
       "    }\n",
       "\n",
       "    .dataframe tbody tr th {\n",
       "        vertical-align: top;\n",
       "    }\n",
       "\n",
       "    .dataframe thead th {\n",
       "        text-align: right;\n",
       "    }\n",
       "</style>\n",
       "<table border=\"1\" class=\"dataframe\">\n",
       "  <thead>\n",
       "    <tr style=\"text-align: right;\">\n",
       "      <th></th>\n",
       "      <th>categoryID</th>\n",
       "      <th>itemID</th>\n",
       "      <th>reviewerID</th>\n",
       "      <th>rating</th>\n",
       "      <th>Card Cases &amp; Money Organizers</th>\n",
       "      <th>Chemises &amp; Negligees</th>\n",
       "      <th>Costumes &amp; More</th>\n",
       "      <th>Crafts &amp; Sewing</th>\n",
       "      <th>Diaper Covers &amp; Underwear</th>\n",
       "      <th>Five &amp; Seven Stone Jewelry</th>\n",
       "      <th>...</th>\n",
       "      <th>crocs</th>\n",
       "      <th>dollhouse</th>\n",
       "      <th>indigo by Clarks</th>\n",
       "      <th>nicole</th>\n",
       "      <th>pediped</th>\n",
       "      <th>outOf</th>\n",
       "      <th>nHelpful</th>\n",
       "      <th>day</th>\n",
       "      <th>month</th>\n",
       "      <th>year</th>\n",
       "    </tr>\n",
       "  </thead>\n",
       "  <tbody>\n",
       "    <tr>\n",
       "      <th>0</th>\n",
       "      <td>0</td>\n",
       "      <td>I655355328</td>\n",
       "      <td>U745881038</td>\n",
       "      <td>3.0</td>\n",
       "      <td>0</td>\n",
       "      <td>0</td>\n",
       "      <td>1</td>\n",
       "      <td>0</td>\n",
       "      <td>0</td>\n",
       "      <td>0</td>\n",
       "      <td>...</td>\n",
       "      <td>0</td>\n",
       "      <td>0</td>\n",
       "      <td>0</td>\n",
       "      <td>0</td>\n",
       "      <td>0</td>\n",
       "      <td>0</td>\n",
       "      <td>0</td>\n",
       "      <td>20</td>\n",
       "      <td>05</td>\n",
       "      <td>2014</td>\n",
       "    </tr>\n",
       "    <tr>\n",
       "      <th>1</th>\n",
       "      <td>0</td>\n",
       "      <td>I241092314</td>\n",
       "      <td>U023577405</td>\n",
       "      <td>4.0</td>\n",
       "      <td>0</td>\n",
       "      <td>0</td>\n",
       "      <td>0</td>\n",
       "      <td>0</td>\n",
       "      <td>0</td>\n",
       "      <td>0</td>\n",
       "      <td>...</td>\n",
       "      <td>0</td>\n",
       "      <td>0</td>\n",
       "      <td>0</td>\n",
       "      <td>0</td>\n",
       "      <td>0</td>\n",
       "      <td>0</td>\n",
       "      <td>0</td>\n",
       "      <td>7</td>\n",
       "      <td>02</td>\n",
       "      <td>2013</td>\n",
       "    </tr>\n",
       "  </tbody>\n",
       "</table>\n",
       "<p>2 rows × 1059 columns</p>\n",
       "</div>"
      ],
      "text/plain": [
       "   categoryID      itemID  reviewerID  rating   Card Cases & Money Organizers  \\\n",
       "0           0  I655355328  U745881038     3.0                               0   \n",
       "1           0  I241092314  U023577405     4.0                               0   \n",
       "\n",
       "    Chemises & Negligees   Costumes & More   Crafts & Sewing  \\\n",
       "0                      0                 1                 0   \n",
       "1                      0                 0                 0   \n",
       "\n",
       "    Diaper Covers & Underwear   Five & Seven Stone Jewelry  ...  crocs  \\\n",
       "0                           0                            0  ...      0   \n",
       "1                           0                            0  ...      0   \n",
       "\n",
       "   dollhouse  indigo by Clarks  nicole  pediped  outOf  nHelpful  day  month  \\\n",
       "0          0                 0       0        0      0         0   20     05   \n",
       "1          0                 0       0        0      0         0    7     02   \n",
       "\n",
       "   year  \n",
       "0  2014  \n",
       "1  2013  \n",
       "\n",
       "[2 rows x 1059 columns]"
      ]
     },
     "execution_count": 17,
     "metadata": {},
     "output_type": "execute_result"
    }
   ],
   "source": [
    "train.head(2)"
   ]
  },
  {
   "cell_type": "code",
   "execution_count": 18,
   "metadata": {
    "scrolled": true
   },
   "outputs": [
    {
     "data": {
      "text/plain": [
       "LabelEncoder()"
      ]
     },
     "execution_count": 18,
     "metadata": {},
     "output_type": "execute_result"
    }
   ],
   "source": [
    "from sklearn.preprocessing import LabelEncoder\n",
    "\n",
    "l_item = LabelEncoder()\n",
    "l_item.fit(train.itemID)"
   ]
  },
  {
   "cell_type": "code",
   "execution_count": 19,
   "metadata": {},
   "outputs": [],
   "source": [
    "train['itemID'] = l_item.transform(train.itemID)"
   ]
  },
  {
   "cell_type": "code",
   "execution_count": 20,
   "metadata": {},
   "outputs": [],
   "source": [
    "test['itemID'] = l_item.transform(test.itemID)"
   ]
  },
  {
   "cell_type": "markdown",
   "metadata": {},
   "source": [
    "### How can we account for the fact that the reviewer might be new? "
   ]
  },
  {
   "cell_type": "code",
   "execution_count": 21,
   "metadata": {
    "scrolled": true
   },
   "outputs": [],
   "source": [
    "l_review = LabelEncoder()\n",
    "l_review.fit(train.reviewerID.append(test.reviewerID))\n",
    "\n",
    "train['reviewerID'] = l_review.transform(train.reviewerID)\n",
    "test['reviewerID'] = l_review.transform(test.reviewerID)"
   ]
  },
  {
   "cell_type": "code",
   "execution_count": 22,
   "metadata": {},
   "outputs": [],
   "source": [
    "from sklearn.preprocessing import StandardScaler\n",
    "\n",
    "scalers = {}\n",
    "for i in range(train.shape[1]):\n",
    "    colname = train.columns[i]\n",
    "    scalers[colname] = StandardScaler()\n",
    "    train[colname] = scalers[colname].fit_transform(train[colname].to_numpy().reshape(-1,1))"
   ]
  },
  {
   "cell_type": "code",
   "execution_count": 23,
   "metadata": {},
   "outputs": [],
   "source": [
    "for i in range(test.shape[1]):\n",
    "    colname = test.columns[i]\n",
    "    test[colname] = scalers[colname].transform(test[colname].to_numpy().reshape(-1,1)) "
   ]
  },
  {
   "cell_type": "code",
   "execution_count": 24,
   "metadata": {},
   "outputs": [
    {
     "data": {
      "text/html": [
       "<div>\n",
       "<style scoped>\n",
       "    .dataframe tbody tr th:only-of-type {\n",
       "        vertical-align: middle;\n",
       "    }\n",
       "\n",
       "    .dataframe tbody tr th {\n",
       "        vertical-align: top;\n",
       "    }\n",
       "\n",
       "    .dataframe thead th {\n",
       "        text-align: right;\n",
       "    }\n",
       "</style>\n",
       "<table border=\"1\" class=\"dataframe\">\n",
       "  <thead>\n",
       "    <tr style=\"text-align: right;\">\n",
       "      <th></th>\n",
       "      <th>categoryID</th>\n",
       "      <th>itemID</th>\n",
       "      <th>reviewerID</th>\n",
       "      <th>rating</th>\n",
       "      <th>Card Cases &amp; Money Organizers</th>\n",
       "      <th>Chemises &amp; Negligees</th>\n",
       "      <th>Costumes &amp; More</th>\n",
       "      <th>Crafts &amp; Sewing</th>\n",
       "      <th>Diaper Covers &amp; Underwear</th>\n",
       "      <th>Five &amp; Seven Stone Jewelry</th>\n",
       "      <th>...</th>\n",
       "      <th>crocs</th>\n",
       "      <th>dollhouse</th>\n",
       "      <th>indigo by Clarks</th>\n",
       "      <th>nicole</th>\n",
       "      <th>pediped</th>\n",
       "      <th>outOf</th>\n",
       "      <th>nHelpful</th>\n",
       "      <th>day</th>\n",
       "      <th>month</th>\n",
       "      <th>year</th>\n",
       "    </tr>\n",
       "  </thead>\n",
       "  <tbody>\n",
       "    <tr>\n",
       "      <th>0</th>\n",
       "      <td>-0.525734</td>\n",
       "      <td>0.549252</td>\n",
       "      <td>0.855597</td>\n",
       "      <td>-1.113633</td>\n",
       "      <td>-0.109532</td>\n",
       "      <td>-0.031797</td>\n",
       "      <td>2.026411</td>\n",
       "      <td>-0.010001</td>\n",
       "      <td>-0.019879</td>\n",
       "      <td>-0.015654</td>\n",
       "      <td>...</td>\n",
       "      <td>-0.118986</td>\n",
       "      <td>-0.010247</td>\n",
       "      <td>-0.004472</td>\n",
       "      <td>-0.003873</td>\n",
       "      <td>-0.009487</td>\n",
       "      <td>-0.207563</td>\n",
       "      <td>-0.190219</td>\n",
       "      <td>0.509141</td>\n",
       "      <td>-0.292471</td>\n",
       "      <td>0.920535</td>\n",
       "    </tr>\n",
       "    <tr>\n",
       "      <th>1</th>\n",
       "      <td>-0.525734</td>\n",
       "      <td>-0.890609</td>\n",
       "      <td>-1.641091</td>\n",
       "      <td>-0.210875</td>\n",
       "      <td>-0.109532</td>\n",
       "      <td>-0.031797</td>\n",
       "      <td>-0.493483</td>\n",
       "      <td>-0.010001</td>\n",
       "      <td>-0.019879</td>\n",
       "      <td>-0.015654</td>\n",
       "      <td>...</td>\n",
       "      <td>-0.118986</td>\n",
       "      <td>-0.010247</td>\n",
       "      <td>-0.004472</td>\n",
       "      <td>-0.003873</td>\n",
       "      <td>-0.009487</td>\n",
       "      <td>-0.207563</td>\n",
       "      <td>-0.190219</td>\n",
       "      <td>-0.983304</td>\n",
       "      <td>-1.120672</td>\n",
       "      <td>-0.102776</td>\n",
       "    </tr>\n",
       "    <tr>\n",
       "      <th>2</th>\n",
       "      <td>-0.525734</td>\n",
       "      <td>-0.308782</td>\n",
       "      <td>-0.185840</td>\n",
       "      <td>-1.113633</td>\n",
       "      <td>-0.109532</td>\n",
       "      <td>-0.031797</td>\n",
       "      <td>2.026411</td>\n",
       "      <td>-0.010001</td>\n",
       "      <td>-0.019879</td>\n",
       "      <td>-0.015654</td>\n",
       "      <td>...</td>\n",
       "      <td>-0.118986</td>\n",
       "      <td>-0.010247</td>\n",
       "      <td>-0.004472</td>\n",
       "      <td>-0.003873</td>\n",
       "      <td>-0.009487</td>\n",
       "      <td>0.109534</td>\n",
       "      <td>0.150873</td>\n",
       "      <td>-0.294483</td>\n",
       "      <td>-0.292471</td>\n",
       "      <td>0.920535</td>\n",
       "    </tr>\n",
       "    <tr>\n",
       "      <th>3</th>\n",
       "      <td>-0.525734</td>\n",
       "      <td>0.950422</td>\n",
       "      <td>0.542445</td>\n",
       "      <td>-0.210875</td>\n",
       "      <td>-0.109532</td>\n",
       "      <td>-0.031797</td>\n",
       "      <td>-0.493483</td>\n",
       "      <td>-0.010001</td>\n",
       "      <td>-0.019879</td>\n",
       "      <td>-0.015654</td>\n",
       "      <td>...</td>\n",
       "      <td>-0.118986</td>\n",
       "      <td>-0.010247</td>\n",
       "      <td>-0.004472</td>\n",
       "      <td>-0.003873</td>\n",
       "      <td>-0.009487</td>\n",
       "      <td>-0.207563</td>\n",
       "      <td>-0.190219</td>\n",
       "      <td>1.083158</td>\n",
       "      <td>-0.292471</td>\n",
       "      <td>0.920535</td>\n",
       "    </tr>\n",
       "    <tr>\n",
       "      <th>4</th>\n",
       "      <td>-0.525734</td>\n",
       "      <td>1.464373</td>\n",
       "      <td>-1.376117</td>\n",
       "      <td>0.691883</td>\n",
       "      <td>-0.109532</td>\n",
       "      <td>-0.031797</td>\n",
       "      <td>2.026411</td>\n",
       "      <td>-0.010001</td>\n",
       "      <td>-0.019879</td>\n",
       "      <td>-0.015654</td>\n",
       "      <td>...</td>\n",
       "      <td>-0.118986</td>\n",
       "      <td>-0.010247</td>\n",
       "      <td>-0.004472</td>\n",
       "      <td>-0.003873</td>\n",
       "      <td>-0.009487</td>\n",
       "      <td>-0.049014</td>\n",
       "      <td>-0.019673</td>\n",
       "      <td>1.657175</td>\n",
       "      <td>0.259663</td>\n",
       "      <td>-0.102776</td>\n",
       "    </tr>\n",
       "    <tr>\n",
       "      <th>5</th>\n",
       "      <td>-0.525734</td>\n",
       "      <td>-1.376712</td>\n",
       "      <td>-0.046935</td>\n",
       "      <td>-0.210875</td>\n",
       "      <td>-0.109532</td>\n",
       "      <td>-0.031797</td>\n",
       "      <td>-0.493483</td>\n",
       "      <td>-0.010001</td>\n",
       "      <td>-0.019879</td>\n",
       "      <td>-0.015654</td>\n",
       "      <td>...</td>\n",
       "      <td>-0.118986</td>\n",
       "      <td>-0.010247</td>\n",
       "      <td>-0.004472</td>\n",
       "      <td>-0.003873</td>\n",
       "      <td>-0.009487</td>\n",
       "      <td>-0.049014</td>\n",
       "      <td>-0.019673</td>\n",
       "      <td>-0.753697</td>\n",
       "      <td>0.535730</td>\n",
       "      <td>-0.102776</td>\n",
       "    </tr>\n",
       "    <tr>\n",
       "      <th>6</th>\n",
       "      <td>-0.525734</td>\n",
       "      <td>1.223323</td>\n",
       "      <td>0.132763</td>\n",
       "      <td>0.691883</td>\n",
       "      <td>-0.109532</td>\n",
       "      <td>-0.031797</td>\n",
       "      <td>-0.493483</td>\n",
       "      <td>-0.010001</td>\n",
       "      <td>-0.019879</td>\n",
       "      <td>-0.015654</td>\n",
       "      <td>...</td>\n",
       "      <td>-0.118986</td>\n",
       "      <td>-0.010247</td>\n",
       "      <td>-0.004472</td>\n",
       "      <td>-0.003873</td>\n",
       "      <td>-0.009487</td>\n",
       "      <td>-0.207563</td>\n",
       "      <td>-0.190219</td>\n",
       "      <td>0.509141</td>\n",
       "      <td>0.811797</td>\n",
       "      <td>-0.102776</td>\n",
       "    </tr>\n",
       "    <tr>\n",
       "      <th>7</th>\n",
       "      <td>-0.525734</td>\n",
       "      <td>0.724514</td>\n",
       "      <td>-1.046525</td>\n",
       "      <td>0.691883</td>\n",
       "      <td>-0.109532</td>\n",
       "      <td>-0.031797</td>\n",
       "      <td>-0.493483</td>\n",
       "      <td>-0.010001</td>\n",
       "      <td>-0.019879</td>\n",
       "      <td>-0.015654</td>\n",
       "      <td>...</td>\n",
       "      <td>-0.118986</td>\n",
       "      <td>-0.010247</td>\n",
       "      <td>-0.004472</td>\n",
       "      <td>-0.003873</td>\n",
       "      <td>-0.009487</td>\n",
       "      <td>-0.207563</td>\n",
       "      <td>-0.190219</td>\n",
       "      <td>-1.327715</td>\n",
       "      <td>-0.568538</td>\n",
       "      <td>0.920535</td>\n",
       "    </tr>\n",
       "    <tr>\n",
       "      <th>8</th>\n",
       "      <td>-0.525734</td>\n",
       "      <td>1.362557</td>\n",
       "      <td>0.217073</td>\n",
       "      <td>-0.210875</td>\n",
       "      <td>-0.109532</td>\n",
       "      <td>-0.031797</td>\n",
       "      <td>-0.493483</td>\n",
       "      <td>-0.010001</td>\n",
       "      <td>-0.019879</td>\n",
       "      <td>-0.015654</td>\n",
       "      <td>...</td>\n",
       "      <td>-0.118986</td>\n",
       "      <td>-0.010247</td>\n",
       "      <td>-0.004472</td>\n",
       "      <td>-0.003873</td>\n",
       "      <td>-0.009487</td>\n",
       "      <td>-0.207563</td>\n",
       "      <td>-0.190219</td>\n",
       "      <td>-0.294483</td>\n",
       "      <td>-1.120672</td>\n",
       "      <td>0.920535</td>\n",
       "    </tr>\n",
       "    <tr>\n",
       "      <th>9</th>\n",
       "      <td>-0.525734</td>\n",
       "      <td>-0.987551</td>\n",
       "      <td>1.156617</td>\n",
       "      <td>0.691883</td>\n",
       "      <td>-0.109532</td>\n",
       "      <td>-0.031797</td>\n",
       "      <td>-0.493483</td>\n",
       "      <td>-0.010001</td>\n",
       "      <td>-0.019879</td>\n",
       "      <td>-0.015654</td>\n",
       "      <td>...</td>\n",
       "      <td>-0.118986</td>\n",
       "      <td>-0.010247</td>\n",
       "      <td>-0.004472</td>\n",
       "      <td>-0.003873</td>\n",
       "      <td>-0.009487</td>\n",
       "      <td>-0.207563</td>\n",
       "      <td>-0.190219</td>\n",
       "      <td>1.312765</td>\n",
       "      <td>-1.120672</td>\n",
       "      <td>-0.102776</td>\n",
       "    </tr>\n",
       "  </tbody>\n",
       "</table>\n",
       "<p>10 rows × 1059 columns</p>\n",
       "</div>"
      ],
      "text/plain": [
       "   categoryID    itemID  reviewerID    rating   Card Cases & Money Organizers  \\\n",
       "0   -0.525734  0.549252    0.855597 -1.113633                       -0.109532   \n",
       "1   -0.525734 -0.890609   -1.641091 -0.210875                       -0.109532   \n",
       "2   -0.525734 -0.308782   -0.185840 -1.113633                       -0.109532   \n",
       "3   -0.525734  0.950422    0.542445 -0.210875                       -0.109532   \n",
       "4   -0.525734  1.464373   -1.376117  0.691883                       -0.109532   \n",
       "5   -0.525734 -1.376712   -0.046935 -0.210875                       -0.109532   \n",
       "6   -0.525734  1.223323    0.132763  0.691883                       -0.109532   \n",
       "7   -0.525734  0.724514   -1.046525  0.691883                       -0.109532   \n",
       "8   -0.525734  1.362557    0.217073 -0.210875                       -0.109532   \n",
       "9   -0.525734 -0.987551    1.156617  0.691883                       -0.109532   \n",
       "\n",
       "    Chemises & Negligees   Costumes & More   Crafts & Sewing  \\\n",
       "0              -0.031797          2.026411         -0.010001   \n",
       "1              -0.031797         -0.493483         -0.010001   \n",
       "2              -0.031797          2.026411         -0.010001   \n",
       "3              -0.031797         -0.493483         -0.010001   \n",
       "4              -0.031797          2.026411         -0.010001   \n",
       "5              -0.031797         -0.493483         -0.010001   \n",
       "6              -0.031797         -0.493483         -0.010001   \n",
       "7              -0.031797         -0.493483         -0.010001   \n",
       "8              -0.031797         -0.493483         -0.010001   \n",
       "9              -0.031797         -0.493483         -0.010001   \n",
       "\n",
       "    Diaper Covers & Underwear   Five & Seven Stone Jewelry  ...     crocs  \\\n",
       "0                   -0.019879                    -0.015654  ... -0.118986   \n",
       "1                   -0.019879                    -0.015654  ... -0.118986   \n",
       "2                   -0.019879                    -0.015654  ... -0.118986   \n",
       "3                   -0.019879                    -0.015654  ... -0.118986   \n",
       "4                   -0.019879                    -0.015654  ... -0.118986   \n",
       "5                   -0.019879                    -0.015654  ... -0.118986   \n",
       "6                   -0.019879                    -0.015654  ... -0.118986   \n",
       "7                   -0.019879                    -0.015654  ... -0.118986   \n",
       "8                   -0.019879                    -0.015654  ... -0.118986   \n",
       "9                   -0.019879                    -0.015654  ... -0.118986   \n",
       "\n",
       "   dollhouse  indigo by Clarks    nicole   pediped     outOf  nHelpful  \\\n",
       "0  -0.010247         -0.004472 -0.003873 -0.009487 -0.207563 -0.190219   \n",
       "1  -0.010247         -0.004472 -0.003873 -0.009487 -0.207563 -0.190219   \n",
       "2  -0.010247         -0.004472 -0.003873 -0.009487  0.109534  0.150873   \n",
       "3  -0.010247         -0.004472 -0.003873 -0.009487 -0.207563 -0.190219   \n",
       "4  -0.010247         -0.004472 -0.003873 -0.009487 -0.049014 -0.019673   \n",
       "5  -0.010247         -0.004472 -0.003873 -0.009487 -0.049014 -0.019673   \n",
       "6  -0.010247         -0.004472 -0.003873 -0.009487 -0.207563 -0.190219   \n",
       "7  -0.010247         -0.004472 -0.003873 -0.009487 -0.207563 -0.190219   \n",
       "8  -0.010247         -0.004472 -0.003873 -0.009487 -0.207563 -0.190219   \n",
       "9  -0.010247         -0.004472 -0.003873 -0.009487 -0.207563 -0.190219   \n",
       "\n",
       "        day     month      year  \n",
       "0  0.509141 -0.292471  0.920535  \n",
       "1 -0.983304 -1.120672 -0.102776  \n",
       "2 -0.294483 -0.292471  0.920535  \n",
       "3  1.083158 -0.292471  0.920535  \n",
       "4  1.657175  0.259663 -0.102776  \n",
       "5 -0.753697  0.535730 -0.102776  \n",
       "6  0.509141  0.811797 -0.102776  \n",
       "7 -1.327715 -0.568538  0.920535  \n",
       "8 -0.294483 -1.120672  0.920535  \n",
       "9  1.312765 -1.120672 -0.102776  \n",
       "\n",
       "[10 rows x 1059 columns]"
      ]
     },
     "execution_count": 24,
     "metadata": {},
     "output_type": "execute_result"
    }
   ],
   "source": [
    "train.head(10)"
   ]
  },
  {
   "cell_type": "markdown",
   "metadata": {},
   "source": [
    "### Tried a couple of machine learning models , but RandomForestRegressor seems to work the best. Random Forest works best even without standardization. DecisionTree seems to give binary results. Nothing in between. MAE in RandomForests takes a lot of time to converge."
   ]
  },
  {
   "cell_type": "markdown",
   "metadata": {},
   "source": [
    "### Feature extraction"
   ]
  },
  {
   "cell_type": "markdown",
   "metadata": {},
   "source": [
    "#### Adding Tokenizer to the model. Also considering length of the review as feature."
   ]
  },
  {
   "cell_type": "code",
   "execution_count": 25,
   "metadata": {},
   "outputs": [],
   "source": [
    "from sklearn.feature_extraction.text import TfidfVectorizer\n",
    "\n",
    "from nltk.corpus import stopwords\n",
    "\n",
    "vectorizer = TfidfVectorizer(stop_words = stopwords.words('english'))\n",
    "train_text = vectorizer.fit_transform(train_df.reviewText)"
   ]
  },
  {
   "cell_type": "code",
   "execution_count": 26,
   "metadata": {},
   "outputs": [],
   "source": [
    "test_text = vectorizer.transform(test_df.reviewText)"
   ]
  },
  {
   "cell_type": "markdown",
   "metadata": {},
   "source": [
    "#### Adding Bag of Words model for summary."
   ]
  },
  {
   "cell_type": "code",
   "execution_count": 27,
   "metadata": {},
   "outputs": [],
   "source": [
    "from sklearn.feature_extraction.text import TfidfVectorizer\n",
    "\n",
    "\n",
    "count_vectorizer = TfidfVectorizer(stop_words= stopwords.words('english'))\n",
    "train_summary = count_vectorizer.fit_transform(train_df.summary)"
   ]
  },
  {
   "cell_type": "code",
   "execution_count": 28,
   "metadata": {},
   "outputs": [],
   "source": [
    "test_summary = count_vectorizer.transform(test_df.summary)"
   ]
  },
  {
   "cell_type": "code",
   "execution_count": 29,
   "metadata": {},
   "outputs": [],
   "source": [
    "import scipy\n",
    "\n",
    "train_csr = scipy.sparse.csr_matrix(train.loc[:,train.columns != 'nHelpful'].apply(lambda x: x.astype('float64')).values)\n",
    "test_csr = scipy.sparse.csr_matrix(test.apply(lambda x: x.astype('float64')).values)"
   ]
  },
  {
   "cell_type": "markdown",
   "metadata": {},
   "source": [
    "### Linear model training takes very less time  to train but gets a mae of about 2.5"
   ]
  },
  {
   "cell_type": "code",
   "execution_count": 30,
   "metadata": {},
   "outputs": [],
   "source": [
    "def make_predictions(preds,message):\n",
    "    predictions = pd.DataFrame([l_review.inverse_transform(test.reviewerID),l_item.inverse_transform(test.itemID),test.outOf.to_numpy(),preds]).T\n",
    "    predictions[0] = predictions[0] + '-' + predictions[1] + '-'\n",
    "    predictions[0] = predictions[0] + predictions[2].apply(lambda x: str(x).strip())\n",
    "    predictions.drop([1,2],axis = 1 ,inplace = True)\n",
    "    predictions.rename(columns = {0:'userID-itemID-outOf',3:'prediction'},inplace = True)\n",
    "    predictions.to_csv('predictions_first.csv',sep= ',',index = False)\n",
    "    !kaggle competitions submit -c dse220 -f predictions_first.csv -m 'Pure random Forest , no dimensionality reduction only removal of features'"
   ]
  },
  {
   "cell_type": "markdown",
   "metadata": {},
   "source": [
    "### Trying clustering on categories columns. Reducing dimensionality of  the data. Branch only if you want to reduce dimensionality in some or the other way"
   ]
  },
  {
   "cell_type": "code",
   "execution_count": 175,
   "metadata": {},
   "outputs": [],
   "source": [
    "cols = train.columns[5:1055]"
   ]
  },
  {
   "cell_type": "code",
   "execution_count": 176,
   "metadata": {},
   "outputs": [
    {
     "name": "stdout",
     "output_type": "stream",
     "text": [
      "Working on k value 2\n",
      "Working on k value 3\n",
      "Working on k value 10\n",
      "Working on k value 50\n",
      "Working on k value 100\n",
      "Working on k value 200\n",
      "Working on k value 500\n"
     ]
    },
    {
     "name": "stderr",
     "output_type": "stream",
     "text": [
      "/home/akash/anaconda3/lib/python3.7/site-packages/sklearn/cluster/k_means_.py:1561: RuntimeWarning: init_size=300 should be larger than k=500. Setting it to 3*k\n",
      "  init_size=init_size)\n",
      "/home/akash/anaconda3/lib/python3.7/site-packages/sklearn/cluster/k_means_.py:1561: RuntimeWarning: init_size=300 should be larger than k=500. Setting it to 3*k\n",
      "  init_size=init_size)\n",
      "/home/akash/anaconda3/lib/python3.7/site-packages/sklearn/cluster/k_means_.py:1561: RuntimeWarning: init_size=300 should be larger than k=500. Setting it to 3*k\n",
      "  init_size=init_size)\n"
     ]
    },
    {
     "name": "stdout",
     "output_type": "stream",
     "text": [
      "Working on k value 1000\n"
     ]
    },
    {
     "name": "stderr",
     "output_type": "stream",
     "text": [
      "/home/akash/anaconda3/lib/python3.7/site-packages/sklearn/cluster/k_means_.py:1561: RuntimeWarning: init_size=300 should be larger than k=1000. Setting it to 3*k\n",
      "  init_size=init_size)\n",
      "/home/akash/anaconda3/lib/python3.7/site-packages/sklearn/cluster/k_means_.py:1561: RuntimeWarning: init_size=300 should be larger than k=1000. Setting it to 3*k\n",
      "  init_size=init_size)\n",
      "/home/akash/anaconda3/lib/python3.7/site-packages/sklearn/cluster/k_means_.py:1561: RuntimeWarning: init_size=300 should be larger than k=1000. Setting it to 3*k\n",
      "  init_size=init_size)\n"
     ]
    }
   ],
   "source": [
    "from sklearn.cluster import MiniBatchKMeans,KMeans\n",
    "\n",
    "n = [2,3,10,50,100,200,500,1000]\n",
    "\n",
    "means = []\n",
    "\n",
    "for k in n:\n",
    "    print(\"Working on k value %d\"%k)\n",
    "    means.append(MiniBatchKMeans(n_clusters=k,init = 'k-means++',max_iter = 1).fit(train[cols]))"
   ]
  },
  {
   "cell_type": "code",
   "execution_count": 177,
   "metadata": {},
   "outputs": [],
   "source": [
    "rmses = []\n",
    "\n",
    "for mean in means:\n",
    "    rmses.append(mean.score(test[cols]))"
   ]
  },
  {
   "cell_type": "code",
   "execution_count": 178,
   "metadata": {},
   "outputs": [
    {
     "data": {
      "image/png": "[encoded data removed]",
      "text/plain": [
       "<Figure size 432x288 with 1 Axes>"
      ]
     },
     "metadata": {
      "needs_background": "light"
     },
     "output_type": "display_data"
    }
   ],
   "source": [
    "import matplotlib.pyplot as plt\n",
    "\n",
    "plt.plot(n,rmses)\n",
    "plt.title('RMSE curve to determine number of clusters')\n",
    "plt.xlabel('Number of clusters')\n",
    "plt.ylabel('RMSE values')\n",
    "plt.show()"
   ]
  },
  {
   "cell_type": "markdown",
   "metadata": {},
   "source": [
    "### It seems like after 500 , the other dimensions add complexity for the model. Let's still fine tune between 200 and 500"
   ]
  },
  {
   "cell_type": "code",
   "execution_count": 179,
   "metadata": {},
   "outputs": [
    {
     "name": "stdout",
     "output_type": "stream",
     "text": [
      "Working on k value 200\n",
      "Working on k value 250\n",
      "Working on k value 300\n",
      "Working on k value 350\n"
     ]
    },
    {
     "name": "stderr",
     "output_type": "stream",
     "text": [
      "/home/akash/anaconda3/lib/python3.7/site-packages/sklearn/cluster/k_means_.py:1561: RuntimeWarning: init_size=300 should be larger than k=350. Setting it to 3*k\n",
      "  init_size=init_size)\n",
      "/home/akash/anaconda3/lib/python3.7/site-packages/sklearn/cluster/k_means_.py:1561: RuntimeWarning: init_size=300 should be larger than k=350. Setting it to 3*k\n",
      "  init_size=init_size)\n",
      "/home/akash/anaconda3/lib/python3.7/site-packages/sklearn/cluster/k_means_.py:1561: RuntimeWarning: init_size=300 should be larger than k=350. Setting it to 3*k\n",
      "  init_size=init_size)\n"
     ]
    },
    {
     "name": "stdout",
     "output_type": "stream",
     "text": [
      "Working on k value 400\n"
     ]
    },
    {
     "name": "stderr",
     "output_type": "stream",
     "text": [
      "/home/akash/anaconda3/lib/python3.7/site-packages/sklearn/cluster/k_means_.py:1561: RuntimeWarning: init_size=300 should be larger than k=400. Setting it to 3*k\n",
      "  init_size=init_size)\n",
      "/home/akash/anaconda3/lib/python3.7/site-packages/sklearn/cluster/k_means_.py:1561: RuntimeWarning: init_size=300 should be larger than k=400. Setting it to 3*k\n",
      "  init_size=init_size)\n",
      "/home/akash/anaconda3/lib/python3.7/site-packages/sklearn/cluster/k_means_.py:1561: RuntimeWarning: init_size=300 should be larger than k=400. Setting it to 3*k\n",
      "  init_size=init_size)\n"
     ]
    },
    {
     "name": "stdout",
     "output_type": "stream",
     "text": [
      "Working on k value 450\n"
     ]
    },
    {
     "name": "stderr",
     "output_type": "stream",
     "text": [
      "/home/akash/anaconda3/lib/python3.7/site-packages/sklearn/cluster/k_means_.py:1561: RuntimeWarning: init_size=300 should be larger than k=450. Setting it to 3*k\n",
      "  init_size=init_size)\n",
      "/home/akash/anaconda3/lib/python3.7/site-packages/sklearn/cluster/k_means_.py:1561: RuntimeWarning: init_size=300 should be larger than k=450. Setting it to 3*k\n",
      "  init_size=init_size)\n",
      "/home/akash/anaconda3/lib/python3.7/site-packages/sklearn/cluster/k_means_.py:1561: RuntimeWarning: init_size=300 should be larger than k=450. Setting it to 3*k\n",
      "  init_size=init_size)\n"
     ]
    },
    {
     "name": "stdout",
     "output_type": "stream",
     "text": [
      "Working on k value 500\n"
     ]
    },
    {
     "name": "stderr",
     "output_type": "stream",
     "text": [
      "/home/akash/anaconda3/lib/python3.7/site-packages/sklearn/cluster/k_means_.py:1561: RuntimeWarning: init_size=300 should be larger than k=500. Setting it to 3*k\n",
      "  init_size=init_size)\n",
      "/home/akash/anaconda3/lib/python3.7/site-packages/sklearn/cluster/k_means_.py:1561: RuntimeWarning: init_size=300 should be larger than k=500. Setting it to 3*k\n",
      "  init_size=init_size)\n",
      "/home/akash/anaconda3/lib/python3.7/site-packages/sklearn/cluster/k_means_.py:1561: RuntimeWarning: init_size=300 should be larger than k=500. Setting it to 3*k\n",
      "  init_size=init_size)\n"
     ]
    }
   ],
   "source": [
    "n = [200,250,300,350,400,450,500]\n",
    "\n",
    "means = []\n",
    "\n",
    "for k in n:\n",
    "    print(\"Working on k value %d\"%k)\n",
    "    means.append(MiniBatchKMeans(n_clusters=k,init = 'k-means++',max_iter = 1).fit(train[cols]))"
   ]
  },
  {
   "cell_type": "code",
   "execution_count": 180,
   "metadata": {},
   "outputs": [],
   "source": [
    "rmses = []\n",
    "\n",
    "for mean in means:\n",
    "    rmses.append(mean.score(test[cols]))"
   ]
  },
  {
   "cell_type": "code",
   "execution_count": 181,
   "metadata": {},
   "outputs": [
    {
     "data": {
      "image/png": "[encoded data removed]",
      "text/plain": [
       "<Figure size 432x288 with 1 Axes>"
      ]
     },
     "metadata": {
      "needs_background": "light"
     },
     "output_type": "display_data"
    }
   ],
   "source": [
    "import matplotlib.pyplot as plt\n",
    "\n",
    "plt.plot(n,rmses)\n",
    "plt.title('RMSE curve to determine number of clusters')\n",
    "plt.xlabel('Number of clusters')\n",
    "plt.ylabel('RMSE values')\n",
    "plt.show()"
   ]
  },
  {
   "cell_type": "markdown",
   "metadata": {},
   "source": [
    "### RMSE still increasing. Thus lets assume there are 500 categories and cluster data to these 500 values."
   ]
  },
  {
   "cell_type": "code",
   "execution_count": 185,
   "metadata": {},
   "outputs": [],
   "source": [
    "mean500 = means[-1]"
   ]
  },
  {
   "cell_type": "code",
   "execution_count": 186,
   "metadata": {},
   "outputs": [
    {
     "ename": "KeyError",
     "evalue": "\"None of [Index([' Card Cases & Money Organizers', ' Chemises & Negligees',\\n       ' Costumes & More', ' Crafts & Sewing', ' Diaper Covers & Underwear',\\n       ' Five & Seven Stone Jewelry', ' Holders & Racks', ' Mittens & Liners',\\n       ' Rompers & Overalls', ' Safety & Work Gloves',\\n       ...\\n       'ZiGiny', 'adidas', 'adidas Originals', 'bebe', 'cobian', 'crocs',\\n       'dollhouse', 'indigo by Clarks', 'nicole', 'pediped'],\\n      dtype='object', length=1050)] are in the [columns]\"",
     "output_type": "error",
     "traceback": [
      "\u001b[0;31m---------------------------------------------------------------------------\u001b[0m",
      "\u001b[0;31mKeyError\u001b[0m                                  Traceback (most recent call last)",
      "\u001b[0;32m<ipython-input-186-a023d5746907>\u001b[0m in \u001b[0;36m<module>\u001b[0;34m\u001b[0m\n\u001b[1;32m      1\u001b[0m \u001b[0mtrain_transformed\u001b[0m \u001b[0;34m=\u001b[0m \u001b[0mtrain\u001b[0m\u001b[0;34m[\u001b[0m\u001b[0mtrain\u001b[0m\u001b[0;34m.\u001b[0m\u001b[0mcolumns\u001b[0m\u001b[0;34m[\u001b[0m\u001b[0;36m0\u001b[0m\u001b[0;34m:\u001b[0m\u001b[0;36m5\u001b[0m\u001b[0;34m]\u001b[0m\u001b[0;34m]\u001b[0m\u001b[0;34m\u001b[0m\u001b[0;34m\u001b[0m\u001b[0m\n\u001b[0;32m----> 2\u001b[0;31m \u001b[0mtrain_transformed\u001b[0m\u001b[0;34m[\u001b[0m\u001b[0;34m'cluster'\u001b[0m\u001b[0;34m]\u001b[0m \u001b[0;34m=\u001b[0m \u001b[0mmean500\u001b[0m\u001b[0;34m.\u001b[0m\u001b[0mpredict\u001b[0m\u001b[0;34m(\u001b[0m\u001b[0mtrain\u001b[0m\u001b[0;34m[\u001b[0m\u001b[0mcols\u001b[0m\u001b[0;34m]\u001b[0m\u001b[0;34m)\u001b[0m\u001b[0;34m\u001b[0m\u001b[0;34m\u001b[0m\u001b[0m\n\u001b[0m\u001b[1;32m      3\u001b[0m \u001b[0mtrain\u001b[0m \u001b[0;34m=\u001b[0m \u001b[0mpd\u001b[0m\u001b[0;34m.\u001b[0m\u001b[0mconcat\u001b[0m\u001b[0;34m(\u001b[0m\u001b[0;34m[\u001b[0m\u001b[0mtrain_transformed\u001b[0m\u001b[0;34m,\u001b[0m\u001b[0mtrain\u001b[0m\u001b[0;34m[\u001b[0m\u001b[0mtrain\u001b[0m\u001b[0;34m.\u001b[0m\u001b[0mcolumns\u001b[0m\u001b[0;34m[\u001b[0m\u001b[0;36m1055\u001b[0m\u001b[0;34m:\u001b[0m\u001b[0;34m]\u001b[0m\u001b[0;34m]\u001b[0m\u001b[0;34m]\u001b[0m\u001b[0;34m,\u001b[0m\u001b[0maxis\u001b[0m \u001b[0;34m=\u001b[0m \u001b[0;36m1\u001b[0m\u001b[0;34m)\u001b[0m\u001b[0;34m\u001b[0m\u001b[0;34m\u001b[0m\u001b[0m\n\u001b[1;32m      4\u001b[0m \u001b[0;34m\u001b[0m\u001b[0m\n\u001b[1;32m      5\u001b[0m \u001b[0mtest_transformed\u001b[0m \u001b[0;34m=\u001b[0m \u001b[0mtest\u001b[0m\u001b[0;34m[\u001b[0m\u001b[0mtest\u001b[0m\u001b[0;34m.\u001b[0m\u001b[0mcolumns\u001b[0m\u001b[0;34m[\u001b[0m\u001b[0;36m0\u001b[0m\u001b[0;34m:\u001b[0m\u001b[0;36m5\u001b[0m\u001b[0;34m]\u001b[0m\u001b[0;34m]\u001b[0m\u001b[0;34m\u001b[0m\u001b[0;34m\u001b[0m\u001b[0m\n",
      "\u001b[0;32m~/anaconda3/lib/python3.7/site-packages/pandas/core/frame.py\u001b[0m in \u001b[0;36m__getitem__\u001b[0;34m(self, key)\u001b[0m\n\u001b[1;32m   2979\u001b[0m             \u001b[0;32mif\u001b[0m \u001b[0mis_iterator\u001b[0m\u001b[0;34m(\u001b[0m\u001b[0mkey\u001b[0m\u001b[0;34m)\u001b[0m\u001b[0;34m:\u001b[0m\u001b[0;34m\u001b[0m\u001b[0;34m\u001b[0m\u001b[0m\n\u001b[1;32m   2980\u001b[0m                 \u001b[0mkey\u001b[0m \u001b[0;34m=\u001b[0m \u001b[0mlist\u001b[0m\u001b[0;34m(\u001b[0m\u001b[0mkey\u001b[0m\u001b[0;34m)\u001b[0m\u001b[0;34m\u001b[0m\u001b[0;34m\u001b[0m\u001b[0m\n\u001b[0;32m-> 2981\u001b[0;31m             \u001b[0mindexer\u001b[0m \u001b[0;34m=\u001b[0m \u001b[0mself\u001b[0m\u001b[0;34m.\u001b[0m\u001b[0mloc\u001b[0m\u001b[0;34m.\u001b[0m\u001b[0m_convert_to_indexer\u001b[0m\u001b[0;34m(\u001b[0m\u001b[0mkey\u001b[0m\u001b[0;34m,\u001b[0m \u001b[0maxis\u001b[0m\u001b[0;34m=\u001b[0m\u001b[0;36m1\u001b[0m\u001b[0;34m,\u001b[0m \u001b[0mraise_missing\u001b[0m\u001b[0;34m=\u001b[0m\u001b[0;32mTrue\u001b[0m\u001b[0;34m)\u001b[0m\u001b[0;34m\u001b[0m\u001b[0;34m\u001b[0m\u001b[0m\n\u001b[0m\u001b[1;32m   2982\u001b[0m \u001b[0;34m\u001b[0m\u001b[0m\n\u001b[1;32m   2983\u001b[0m         \u001b[0;31m# take() does not accept boolean indexers\u001b[0m\u001b[0;34m\u001b[0m\u001b[0;34m\u001b[0m\u001b[0;34m\u001b[0m\u001b[0m\n",
      "\u001b[0;32m~/anaconda3/lib/python3.7/site-packages/pandas/core/indexing.py\u001b[0m in \u001b[0;36m_convert_to_indexer\u001b[0;34m(self, obj, axis, is_setter, raise_missing)\u001b[0m\n\u001b[1;32m   1269\u001b[0m                 \u001b[0;31m# When setting, missing keys are not allowed, even with .loc:\u001b[0m\u001b[0;34m\u001b[0m\u001b[0;34m\u001b[0m\u001b[0;34m\u001b[0m\u001b[0m\n\u001b[1;32m   1270\u001b[0m                 \u001b[0mkwargs\u001b[0m \u001b[0;34m=\u001b[0m \u001b[0;34m{\u001b[0m\u001b[0;34m\"raise_missing\"\u001b[0m\u001b[0;34m:\u001b[0m \u001b[0;32mTrue\u001b[0m \u001b[0;32mif\u001b[0m \u001b[0mis_setter\u001b[0m \u001b[0;32melse\u001b[0m \u001b[0mraise_missing\u001b[0m\u001b[0;34m}\u001b[0m\u001b[0;34m\u001b[0m\u001b[0;34m\u001b[0m\u001b[0m\n\u001b[0;32m-> 1271\u001b[0;31m                 \u001b[0;32mreturn\u001b[0m \u001b[0mself\u001b[0m\u001b[0;34m.\u001b[0m\u001b[0m_get_listlike_indexer\u001b[0m\u001b[0;34m(\u001b[0m\u001b[0mobj\u001b[0m\u001b[0;34m,\u001b[0m \u001b[0maxis\u001b[0m\u001b[0;34m,\u001b[0m \u001b[0;34m**\u001b[0m\u001b[0mkwargs\u001b[0m\u001b[0;34m)\u001b[0m\u001b[0;34m[\u001b[0m\u001b[0;36m1\u001b[0m\u001b[0;34m]\u001b[0m\u001b[0;34m\u001b[0m\u001b[0;34m\u001b[0m\u001b[0m\n\u001b[0m\u001b[1;32m   1272\u001b[0m         \u001b[0;32melse\u001b[0m\u001b[0;34m:\u001b[0m\u001b[0;34m\u001b[0m\u001b[0;34m\u001b[0m\u001b[0m\n\u001b[1;32m   1273\u001b[0m             \u001b[0;32mtry\u001b[0m\u001b[0;34m:\u001b[0m\u001b[0;34m\u001b[0m\u001b[0;34m\u001b[0m\u001b[0m\n",
      "\u001b[0;32m~/anaconda3/lib/python3.7/site-packages/pandas/core/indexing.py\u001b[0m in \u001b[0;36m_get_listlike_indexer\u001b[0;34m(self, key, axis, raise_missing)\u001b[0m\n\u001b[1;32m   1076\u001b[0m \u001b[0;34m\u001b[0m\u001b[0m\n\u001b[1;32m   1077\u001b[0m         self._validate_read_indexer(\n\u001b[0;32m-> 1078\u001b[0;31m             \u001b[0mkeyarr\u001b[0m\u001b[0;34m,\u001b[0m \u001b[0mindexer\u001b[0m\u001b[0;34m,\u001b[0m \u001b[0mo\u001b[0m\u001b[0;34m.\u001b[0m\u001b[0m_get_axis_number\u001b[0m\u001b[0;34m(\u001b[0m\u001b[0maxis\u001b[0m\u001b[0;34m)\u001b[0m\u001b[0;34m,\u001b[0m \u001b[0mraise_missing\u001b[0m\u001b[0;34m=\u001b[0m\u001b[0mraise_missing\u001b[0m\u001b[0;34m\u001b[0m\u001b[0;34m\u001b[0m\u001b[0m\n\u001b[0m\u001b[1;32m   1079\u001b[0m         )\n\u001b[1;32m   1080\u001b[0m         \u001b[0;32mreturn\u001b[0m \u001b[0mkeyarr\u001b[0m\u001b[0;34m,\u001b[0m \u001b[0mindexer\u001b[0m\u001b[0;34m\u001b[0m\u001b[0;34m\u001b[0m\u001b[0m\n",
      "\u001b[0;32m~/anaconda3/lib/python3.7/site-packages/pandas/core/indexing.py\u001b[0m in \u001b[0;36m_validate_read_indexer\u001b[0;34m(self, key, indexer, axis, raise_missing)\u001b[0m\n\u001b[1;32m   1161\u001b[0m                 raise KeyError(\n\u001b[1;32m   1162\u001b[0m                     \"None of [{key}] are in the [{axis}]\".format(\n\u001b[0;32m-> 1163\u001b[0;31m                         \u001b[0mkey\u001b[0m\u001b[0;34m=\u001b[0m\u001b[0mkey\u001b[0m\u001b[0;34m,\u001b[0m \u001b[0maxis\u001b[0m\u001b[0;34m=\u001b[0m\u001b[0mself\u001b[0m\u001b[0;34m.\u001b[0m\u001b[0mobj\u001b[0m\u001b[0;34m.\u001b[0m\u001b[0m_get_axis_name\u001b[0m\u001b[0;34m(\u001b[0m\u001b[0maxis\u001b[0m\u001b[0;34m)\u001b[0m\u001b[0;34m\u001b[0m\u001b[0;34m\u001b[0m\u001b[0m\n\u001b[0m\u001b[1;32m   1164\u001b[0m                     )\n\u001b[1;32m   1165\u001b[0m                 )\n",
      "\u001b[0;31mKeyError\u001b[0m: \"None of [Index([' Card Cases & Money Organizers', ' Chemises & Negligees',\\n       ' Costumes & More', ' Crafts & Sewing', ' Diaper Covers & Underwear',\\n       ' Five & Seven Stone Jewelry', ' Holders & Racks', ' Mittens & Liners',\\n       ' Rompers & Overalls', ' Safety & Work Gloves',\\n       ...\\n       'ZiGiny', 'adidas', 'adidas Originals', 'bebe', 'cobian', 'crocs',\\n       'dollhouse', 'indigo by Clarks', 'nicole', 'pediped'],\\n      dtype='object', length=1050)] are in the [columns]\""
     ]
    }
   ],
   "source": [
    "train_transformed = train[train.columns[0:5]]\n",
    "train_transformed['cluster'] = mean500.predict(train[cols])\n",
    "train = pd.concat([train_transformed,train[train.columns[1055:]]],axis = 1)\n",
    "\n",
    "test_transformed = test[test.columns[0:5]]\n",
    "test_transformed['cluster'] = mean500.predict(test[cols])\n",
    "test = pd.concat([test_transformed,test[test.columns[1055:]]],axis = 1)"
   ]
  },
  {
   "cell_type": "code",
   "execution_count": 31,
   "metadata": {},
   "outputs": [],
   "source": [
    "import scipy\n",
    "from scipy.sparse import hstack\n",
    "\n",
    "train_csr = scipy.sparse.csr_matrix(train.loc[:,train.columns != 'nHelpful'].apply(lambda x: x.astype('float64')).values)\n",
    "test_csr = scipy.sparse.csr_matrix(test.apply(lambda x: x.astype('float64')).values)\n",
    "\n",
    "\n",
    "train_data = hstack((train_csr,train_text,train_summary))\n",
    "test_data = hstack((test_csr,test_text,test_summary))"
   ]
  },
  {
   "cell_type": "code",
   "execution_count": 32,
   "metadata": {},
   "outputs": [],
   "source": [
    "### Skip dimensionality reduction and try whats happening"
   ]
  },
  {
   "cell_type": "code",
   "execution_count": 33,
   "metadata": {},
   "outputs": [],
   "source": [
    "import scipy\n",
    "from scipy.sparse import hstack\n",
    "\n",
    "train_data = hstack((train_csr,train_text,train_summary))\n",
    "test_data = hstack((test_csr,test_text,test_summary))"
   ]
  },
  {
   "cell_type": "markdown",
   "metadata": {},
   "source": [
    "### SVR takes a lot of time to train"
   ]
  },
  {
   "cell_type": "code",
   "execution_count": 34,
   "metadata": {},
   "outputs": [],
   "source": [
    "from sklearn.model_selection import train_test_split\n",
    "\n",
    "train_csr_new,val_new, train_y , val_y = train_test_split(train_data,train['nHelpful'],test_size = 0.2,random_state = 42)"
   ]
  },
  {
   "cell_type": "code",
   "execution_count": 35,
   "metadata": {
    "scrolled": true
   },
   "outputs": [
    {
     "name": "stdout",
     "output_type": "stream",
     "text": [
      "[LibLinear]"
     ]
    },
    {
     "name": "stderr",
     "output_type": "stream",
     "text": [
      "/home/akash/anaconda3/lib/python3.7/site-packages/sklearn/svm/base.py:929: ConvergenceWarning: Liblinear failed to converge, increase the number of iterations.\n",
      "  \"the number of iterations.\", ConvergenceWarning)\n"
     ]
    },
    {
     "data": {
      "text/plain": [
       "LinearSVR(C=1, dual=True, epsilon=0.0, fit_intercept=True,\n",
       "          intercept_scaling=1.0, loss='epsilon_insensitive', max_iter=1000,\n",
       "          random_state=None, tol=0.0001, verbose=1)"
      ]
     },
     "execution_count": 35,
     "metadata": {},
     "output_type": "execute_result"
    }
   ],
   "source": [
    "from sklearn.svm import LinearSVR\n",
    "\n",
    "svr = LinearSVR(verbose = 1, C = 1)\n",
    "svr.fit(train_csr_new,train_y)"
   ]
  },
  {
   "cell_type": "code",
   "execution_count": 42,
   "metadata": {},
   "outputs": [
    {
     "data": {
      "text/plain": [
       "0.37086442887462445"
      ]
     },
     "execution_count": 42,
     "metadata": {},
     "output_type": "execute_result"
    }
   ],
   "source": [
    "from sklearn.metrics import mean_absolute_error\n",
    "#svr.predict(val_new\n",
    "\n",
    "mean_absolute_error(scalers['nHelpful'].inverse_transform(val_y),scalers['nHelpful'].inverse_transform(svr.predict(val_new)))"
   ]
  },
  {
   "cell_type": "code",
   "execution_count": 196,
   "metadata": {},
   "outputs": [
    {
     "data": {
      "text/plain": [
       "TruncatedSVD(algorithm='randomized', n_components=20, n_iter=5,\n",
       "             random_state=None, tol=0.0)"
      ]
     },
     "execution_count": 196,
     "metadata": {},
     "output_type": "execute_result"
    }
   ],
   "source": [
    "# from sklearn.decomposition import  TruncatedSVD\n",
    "\n",
    "# svd = TruncatedSVD(n_components=20)\n",
    "# svd.fit(train_csr_new)\n",
    "\n",
    "# from sklearn.ensemble import RandomForestRegressor\n",
    "\n",
    "# rf = RandomForestRegressor(max_features=None,n_estimators=256,verbose= 1)\n",
    "# rf.fit(svd.transform(train_csr_new),train_y)\n",
    "\n",
    "# from sklearn.metrics import mean_absolute_error\n",
    "\n",
    "# mean_absolute_error(val_y,smooth_predictions(rf.predict(svd.transform(val_new))))"
   ]
  },
  {
   "cell_type": "code",
   "execution_count": 43,
   "metadata": {},
   "outputs": [
    {
     "data": {
      "text/plain": [
       "0.07329296424956615"
      ]
     },
     "execution_count": 43,
     "metadata": {},
     "output_type": "execute_result"
    }
   ],
   "source": [
    "from sklearn.linear_model import LinearRegression\n",
    "from sklearn.metrics import mean_absolute_error\n",
    "\n",
    "lm = LinearRegression(normalize = True,n_jobs = -1)\n",
    "lm.fit(train_csr_new,train_y)\n",
    "mean_absolute_error(val_y,lm.predict(val_new))"
   ]
  },
  {
   "cell_type": "code",
   "execution_count": 44,
   "metadata": {},
   "outputs": [
    {
     "data": {
      "text/plain": [
       "0.4297545206997986"
      ]
     },
     "execution_count": 44,
     "metadata": {},
     "output_type": "execute_result"
    }
   ],
   "source": [
    "from sklearn.metrics import mean_absolute_error\n",
    "\n",
    "mean_absolute_error(scalers['nHelpful'].inverse_transform(val_y),scalers['nHelpful'].inverse_transform(lm.predict(val_new)))\n",
    "#mean_absolute_error(val_y,smooth_predictions(lm.predict(val_new)))"
   ]
  },
  {
   "cell_type": "code",
   "execution_count": null,
   "metadata": {
    "scrolled": true
   },
   "outputs": [],
   "source": [
    "from sklearn.ensemble import RandomForestRegressor\n",
    "\n",
    "rf = RandomForestRegressor(max_features=None,n_estimators=10,verbose= 1,n_jobs = -1)\n",
    "rf.fit(train_csr_new,train_y)"
   ]
  },
  {
   "cell_type": "markdown",
   "metadata": {},
   "source": [
    "### Accuracy of the linear regressor improves with normalization."
   ]
  },
  {
   "cell_type": "code",
   "execution_count": 50,
   "metadata": {},
   "outputs": [
    {
     "data": {
      "text/plain": [
       "array([ 0., -0.,  0., ...,  0.,  4.,  3.])"
      ]
     },
     "execution_count": 50,
     "metadata": {},
     "output_type": "execute_result"
    }
   ],
   "source": []
  },
  {
   "cell_type": "code",
   "execution_count": 40,
   "metadata": {},
   "outputs": [
    {
     "data": {
      "text/plain": [
       "0.06324948783012618"
      ]
     },
     "execution_count": 40,
     "metadata": {},
     "output_type": "execute_result"
    }
   ],
   "source": [
    "from sklearn.metrics import mean_absolute_error\n",
    "\n",
    "mean_absolute_error(val_y,svr.predict(val_new))"
   ]
  },
  {
   "cell_type": "code",
   "execution_count": 238,
   "metadata": {
    "scrolled": true
   },
   "outputs": [
    {
     "name": "stderr",
     "output_type": "stream",
     "text": [
      "[Parallel(n_jobs=12)]: Using backend ThreadingBackend with 12 concurrent workers.\n",
      "[Parallel(n_jobs=12)]: Done  26 tasks      | elapsed:    0.1s\n",
      "[Parallel(n_jobs=12)]: Done 176 tasks      | elapsed:    0.2s\n",
      "[Parallel(n_jobs=12)]: Done 256 out of 256 | elapsed:    0.3s finished\n"
     ]
    }
   ],
   "source": [
    "preds = rf.predict(test_data)"
   ]
  },
  {
   "cell_type": "code",
   "execution_count": 239,
   "metadata": {},
   "outputs": [
    {
     "data": {
      "text/plain": [
       "array([1.33984375, 0.        , 0.85546875, ..., 0.        , 0.        ,\n",
       "       1.23828125])"
      ]
     },
     "execution_count": 239,
     "metadata": {},
     "output_type": "execute_result"
    }
   ],
   "source": [
    "preds"
   ]
  },
  {
   "cell_type": "code",
   "execution_count": 38,
   "metadata": {},
   "outputs": [],
   "source": [
    "def smooth_predictions(preds):\n",
    "    import numpy as np\n",
    "    for i in range(0,preds.shape[0]):\n",
    "        x = preds[i]\n",
    "        if x % 1 > 0.5:\n",
    "            preds[i] = np.ceil(x) \n",
    "        else: \n",
    "            preds[i] = np.floor(x)\n",
    "    return preds"
   ]
  },
  {
   "cell_type": "code",
   "execution_count": 245,
   "metadata": {
    "scrolled": true
   },
   "outputs": [
    {
     "name": "stdout",
     "output_type": "stream",
     "text": [
      "Warning: Your Kaggle API key is readable by other users on this system! To fix this, you can run 'chmod 600 /home/akash/.kaggle/kaggle.json'\n",
      "100%|████████████████████████████████████████| 409k/409k [00:08<00:00, 50.9kB/s]\n",
      "Successfully submitted to DSE 220 - Project"
     ]
    }
   ],
   "source": [
    "make_predictions(preds,'Random Forest regressor with 256 estimators, took 3 hours to train. No Dimensionality reduction')"
   ]
  },
  {
   "cell_type": "markdown",
   "metadata": {},
   "source": [
    "### Tried max feature reduction to reduce the dimensionality of the text data too. This resulted in an increase in mae value."
   ]
  },
  {
   "cell_type": "code",
   "execution_count": null,
   "metadata": {},
   "outputs": [],
   "source": []
  }
 ],
 "metadata": {
  "kernelspec": {
   "display_name": "Python 3",
   "language": "python",
   "name": "python3"
  },
  "language_info": {
   "codemirror_mode": {
    "name": "ipython",
    "version": 3
   },
   "file_extension": ".py",
   "mimetype": "text/x-python",
   "name": "python",
   "nbconvert_exporter": "python",
   "pygments_lexer": "ipython3",
   "version": "3.7.4"
  }
 },
 "nbformat": 4,
 "nbformat_minor": 2
}
